{
 "cells": [
  {
   "cell_type": "markdown",
   "id": "6d6d241c",
   "metadata": {},
   "source": [
    "# Participation to co-creation: tools and methods for the involvement of stakeholders in mobility planning in Germany"
   ]
  },
  {
   "cell_type": "markdown",
   "id": "970e6451",
   "metadata": {},
   "source": [
    "#### Libraries"
   ]
  },
  {
   "cell_type": "code",
   "execution_count": 2,
   "id": "99a828ec",
   "metadata": {},
   "outputs": [],
   "source": [
    "# loading libraries\n",
    "import pandas as pd\n",
    "from ast import literal_eval\n",
    "import itertools\n",
    "from apyori import apriori\n",
    "import networkx as nx  \n",
    "import matplotlib.pyplot as plt\n",
    "import matplotlib.patches as mpatches\n",
    "import numpy as np\n",
    "import plotly.figure_factory as ff\n",
    "import plotly.express as px\n",
    "from plotly.subplots import make_subplots"
   ]
  },
  {
   "cell_type": "markdown",
   "id": "32c4c7d3",
   "metadata": {},
   "source": [
    "#### Functions"
   ]
  },
  {
   "cell_type": "code",
   "execution_count": 7,
   "id": "c45406a0",
   "metadata": {},
   "outputs": [],
   "source": [
    "# function to calculate intersections between two lists\n",
    "def intersection(lst1, lst2):\n",
    "    lst3 = [value for value in lst1 if value in lst2]\n",
    "    return lst3"
   ]
  },
  {
   "cell_type": "code",
   "execution_count": 8,
   "id": "2ccd298e",
   "metadata": {},
   "outputs": [],
   "source": [
    "# function to concatenate three lists in all possible combinations\n",
    "def concatenation(lst1, lst2, lst3):\n",
    "    a = [lst1, lst2, lst3]\n",
    "    return list(itertools.product(*a))"
   ]
  },
  {
   "cell_type": "markdown",
   "id": "1808233c",
   "metadata": {},
   "source": [
    "#### Data import / preparation"
   ]
  },
  {
   "cell_type": "code",
   "execution_count": 3,
   "id": "df80f755",
   "metadata": {},
   "outputs": [],
   "source": [
    "# read the data\n",
    "df_original = pd.read_excel('A00-All quotations and codes-SUMP Germany18-10-2021.xlsx')"
   ]
  },
  {
   "cell_type": "code",
   "execution_count": 4,
   "id": "956911ee",
   "metadata": {},
   "outputs": [],
   "source": [
    "# create 3 list with the main categories\n",
    "### Target groups\n",
    "# annotation: In order to facilitate the string comparison,\n",
    "# the target group \"decision-makers, political authorities\" has been changed to \"decision-makers / political authorities\"\n",
    "target_groups_list = [\"social organisations / public interest groups\", \"young and children\", \"users\",\n",
    "                      \"senior citizens\", \"citizens and wider public\", \"multiplicators\",\n",
    "                      \"transport providers and operators / public services like energy\", \"non defined stakeholders\",\n",
    "                      \"researchers\", \"regional actors\", \"private business / economy\", \"political actors / district committees\",\n",
    "                      \"networks and associations\", \"municipal employees / members of the public administration\",\n",
    "                      \"experts-practitioners-planers\", \"decision-makers / political authorities\",\n",
    "                      \"Committees representing public interests\", \"consultants\"]"
   ]
  },
  {
   "cell_type": "code",
   "execution_count": 5,
   "id": "05262771",
   "metadata": {},
   "outputs": [],
   "source": [
    "# create 3 list with the main categories\n",
    "### Methods\n",
    "# annotations: In order to facilitate the string comparison,\n",
    "# the method online questionnaire/ survey has been changed to online_questionnaire_survey\n",
    "methods_list = [\"co-creation workshop\", \"meetings\", \"working group\", \"stakeholder workshops\", \"visualisation methods\", \"round table\", \"scenario development\", \"citizen workshop / citizen forum\", \"advisory board\", \"focus group\", \"interviews\", \"survey\", \"expert forum / expert workshop\", \"city walks / city tours\", \"citizen contest\", \"conferences / symposium\", \"stalls / market fairs\", \"exhibition / event / presentation\", \"press / marketing / public relations / communication\", \"online public events\", \"social networks\", \"online platform\", \"online_questionnaire_zurvey\", \"online communication\"]"
   ]
  },
  {
   "cell_type": "code",
   "execution_count": 6,
   "id": "fa1d826f",
   "metadata": {},
   "outputs": [],
   "source": [
    "# create 3 list with the main categories\n",
    "### Goals\n",
    "goals_list = [\"communication / transparency\", \"envisioning / common ground\", \"feedback / discussion\", \"ideation / innovation\", \"increase user acceptance / legitimacy\", \"project management\", \"understand users / user behavior / requirements\"]\n"
   ]
  },
  {
   "cell_type": "markdown",
   "id": "6602a3a7",
   "metadata": {},
   "source": [
    "#### Data preprocessesing"
   ]
  },
  {
   "cell_type": "code",
   "execution_count": 9,
   "id": "ba7893a0",
   "metadata": {},
   "outputs": [],
   "source": [
    "# remove columns not necessary for the analysis\n",
    "df = df_original.iloc[:,[0,2,4,5,6]]"
   ]
  },
  {
   "cell_type": "code",
   "execution_count": 10,
   "id": "13042f90",
   "metadata": {},
   "outputs": [],
   "source": [
    "# create an unique identifier\n",
    "df['Merge'] = df['Merge'].astype(str)\n",
    "df['id'] = df['Document'] + '_' + df['Merge']"
   ]
  },
  {
   "cell_type": "code",
   "execution_count": 11,
   "id": "80af82af",
   "metadata": {},
   "outputs": [],
   "source": [
    "# Erase lines with the Code “preparation of the plan / participation within the planning process” since it is not relavant for the analysis\n",
    "to_be_erased = 'preparation of the plan / participation within the planning process, '\n",
    "to_be_erased2 = 'preparation of the plan / participation within the planning process'\n",
    "\n",
    "df['Codes'] = df['Codes'].str.replace(to_be_erased,'', regex = False, case = True)\n",
    "df['Codes'] = df['Codes'].str.replace(to_be_erased2,'', regex = False, case = True)"
   ]
  },
  {
   "cell_type": "code",
   "execution_count": 12,
   "id": "73a13dec",
   "metadata": {},
   "outputs": [],
   "source": [
    "# annotations > In order to facilitate the string comparison,\n",
    "# the method online questionnaire/ survey has been changed to online_questionnaire_survey\n",
    "# and can be easily matched with the string in the list\n",
    "df['Codes'] = df['Codes'].str.replace('online questionnaire/ survey', 'online_questionnaire_zurvey', regex=False, case = True)\n",
    "# annotations > In order to facilitate the string comparison,\n",
    "# the target group \"decision-makers, political authorities\" has been changed to \"decision-makers / political authorities\"\n",
    "# and can be easily matched with the string in the list\n",
    "df['Codes'] = df['Codes'].str.replace('decision-makers, political authorities', 'decision-makers / political authorities', regex=False, case = True)"
   ]
  },
  {
   "cell_type": "code",
   "execution_count": 13,
   "id": "e2ec745c",
   "metadata": {},
   "outputs": [],
   "source": [
    "# remove macrocategories (not relevant for the anaylsis) + remove code \"participation\"\n",
    "# multiple variants because of start, middle and end of string\n",
    "df['Codes'] = df['Codes'].str.replace('Citizens, ', '', regex=False, case = True)\n",
    "df['Codes'] = df['Codes'].str.replace('Citizens,', '', regex=False, case = True)\n",
    "df['Codes'] = df['Codes'].str.replace('Citizens', '', regex=False, case = True)\n",
    "df['Codes'] = df['Codes'].str.replace('Stakeholders, ', '', regex=False, case = True)\n",
    "df['Codes'] = df['Codes'].str.replace('Stakeholders,', '', regex=False, case = True)\n",
    "df['Codes'] = df['Codes'].str.replace('Stakeholders','', regex=False, case = True)\n",
    "df['Codes'] = df['Codes'].str.replace('participatory workshops / workshop series, ', '', regex=False, case = True)\n",
    "df['Codes'] = df['Codes'].str.replace('participatory workshops / workshop series,', '', regex=False, case = True)\n",
    "df['Codes'] = df['Codes'].str.replace('participatory workshops / workshop series', '', regex=False, case = True)\n",
    "df['Codes'] = df['Codes'].str.replace('public events, ', '', regex=False, case = True)\n",
    "df['Codes'] = df['Codes'].str.replace('public events,', '', regex=False, case = True)\n",
    "df['Codes'] = df['Codes'].str.replace('public events', '', regex=False, case = True)\n",
    "df['Codes'] = df['Codes'].str.replace('consultation, ', '', regex=False, case = True)\n",
    "df['Codes'] = df['Codes'].str.replace('consultation,', '', regex=False, case = True)\n",
    "df['Codes'] = df['Codes'].str.replace('consultation', '', regex=False, case = True)\n",
    "df['Codes'] = df['Codes'].str.replace('online participation, ', '', regex=False, case = True)\n",
    "df['Codes'] = df['Codes'].str.replace('online participation,', '', regex=False, case = True)\n",
    "df['Codes'] = df['Codes'].str.replace('online participation', '', regex=False, case = True)\n",
    "df['Codes'] = df['Codes'].str.replace('participation, ', '', regex=False, case = True)\n",
    "df['Codes'] = df['Codes'].str.replace('participation,', '', regex=False, case = True)\n",
    "df['Codes'] = df['Codes'].str.replace('participation', '', regex=False, case = True)"
   ]
  },
  {
   "cell_type": "code",
   "execution_count": 14,
   "id": "7feb250e",
   "metadata": {},
   "outputs": [],
   "source": [
    "# remove commas\n",
    "df['Codes'] = df['Codes'].str.replace('  ', '', regex=False, case = True)"
   ]
  },
  {
   "cell_type": "code",
   "execution_count": 16,
   "id": "44683881",
   "metadata": {},
   "outputs": [],
   "source": [
    "df.to_csv(\"SUMP_codes_clean.csv\")"
   ]
  }
 ],
 "metadata": {
  "kernelspec": {
   "display_name": "Python 3 (ipykernel)",
   "language": "python",
   "name": "python3"
  },
  "language_info": {
   "codemirror_mode": {
    "name": "ipython",
    "version": 3
   },
   "file_extension": ".py",
   "mimetype": "text/x-python",
   "name": "python",
   "nbconvert_exporter": "python",
   "pygments_lexer": "ipython3",
   "version": "3.8.5"
  }
 },
 "nbformat": 4,
 "nbformat_minor": 5
}
